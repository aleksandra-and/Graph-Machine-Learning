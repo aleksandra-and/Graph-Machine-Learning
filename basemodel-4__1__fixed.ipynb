{
 "metadata": {
  "kernelspec": {
   "name": "python3",
   "display_name": "Python 3",
   "language": "python"
  },
  "language_info": {
   "name": "python",
   "version": "3.11.13",
   "mimetype": "text/x-python",
   "codemirror_mode": {
    "name": "ipython",
    "version": 3
   },
   "pygments_lexer": "ipython3",
   "nbconvert_exporter": "python",
   "file_extension": ".py"
  },
  "accelerator": "GPU",
  "colab": {
   "collapsed_sections": [
    "is5ZiquMgj5j",
    "Nt6BQK32gMN1"
   ],
   "gpuType": "T4",
   "provenance": []
  },
  "kaggle": {
   "accelerator": "nvidiaTeslaT4",
   "dataSources": [
    {
     "sourceId": 13424334,
     "sourceType": "datasetVersion",
     "datasetId": 8520408
    }
   ],
   "dockerImageVersionId": 31153,
   "isInternetEnabled": true,
   "language": "python",
   "sourceType": "notebook",
   "isGpuEnabled": true
  }
 },
 "nbformat_minor": 4,
 "nbformat": 4,
 "cells": [
  {
   "metadata": {},
   "cell_type": "code",
   "outputs": [],
   "execution_count": null,
   "source": [
    "# ============================================================================\n",
    "# CONFIGURATION - Modify these variables for different experiments\n",
    "# ============================================================================\n",
    "\n",
    "import os\n",
    "\n",
    "# Data paths\n",
    "dir_local = '/home/study/IdeaProjects/Graph-Machine-Learning/Temporal_RSR/data'\n",
    "dir_kaggle = '/kaggle/input/rsr-dataset/Data/'\n",
    "\n",
    "# ============================================================================\n",
    "# EXPERIMENT CONFIGURATION\n",
    "# ============================================================================\n",
    "\n",
    "# Dataset parameters\n",
    "num_companies = 150  # max is 1026\n",
    "num_days = 1245\n",
    "num_features = 5\n",
    "market = \"NYSE\"  # or \"NYSE\"\n",
    "\n",
    "# Temporal parameters\n",
    "window_size = 20  # Lookback period for temporal models\n",
    "prediction_horizon = 1  # How many days ahead to predict\n",
    "\n",
    "# Train/Val/Test split (should sum to 1.0)\n",
    "train_split = 0.8  # 80% for training\n",
    "val_split = 0.1    # 10% for validation\n",
    "test_split = 0.1   # 10% for test\n",
    "\n",
    "# Graph parameters\n",
    "K = 5  # Number of graph hops for GNN models\n",
    "calculate_correlation = False\n",
    "\n",
    "# ============================================================================\n",
    "# MODEL CONFIGURATION - Activate/Deactivate features\n",
    "# ============================================================================\n",
    "\n",
    "MODEL_CONFIG = {\n",
    "    # Which model to train\n",
    "    'use_gvar': False,      # Simple G-VAR baseline\n",
    "    'use_gcn': False,       # Pure GCN model\n",
    "    'use_gat': True,        # GAT model (attention-based)\n",
    "    \n",
    "    # Graph features\n",
    "    'use_industry_relations': True,   # Use industry relationship data\n",
    "    'use_wiki_relations': True,       # Use Wikipedia relationship data\n",
    "    'use_graph_structure': True,      # If False, uses identity matrix (no graph)\n",
    "    \n",
    "    # Model architecture\n",
    "    'hidden_dim': 15,                 # Hidden layer dimension\n",
    "    'num_attention_heads': 2,         # For GAT model\n",
    "    'dropout': 0.5,                   # Dropout rate\n",
    "    \n",
    "    # Training parameters\n",
    "    'learning_rate': 0.001,\n",
    "    'weight_decay': 0.0,              # L2 regularization\n",
    "    'batch_training': False,          # If True, use mini-batches (not implemented yet)\n",
    "    \n",
    "    # Feature engineering\n",
    "    'normalize_features': False,      # Normalize input features\n",
    "    'use_all_features': True,         # Use all 5 stock features\n",
    "}\n",
    "\n",
    "# ============================================================================\n",
    "# TRAINING CONFIGURATION\n",
    "# ============================================================================\n",
    "\n",
    "train_batch = 1\n",
    "val_batch = 1\n",
    "epochs = 20\n",
    "val_min_num = 10\n",
    "use_kfold = False\n",
    "early_stopping_patience = 150  # Stop if no improvement for N epochs\n",
    "\n",
    "# Environment detection\n",
    "if 'KAGGLE_KERNEL_RUN_TYPE' in os.environ:\n",
    "    print(\"Running on Kaggle!\")\n",
    "    dir = dir_kaggle\n",
    "    train_batch = 32\n",
    "    val_batch = 32\n",
    "    epochs = 1000\n",
    "    num_companies = 1026\n",
    "    calculate_correlation = True\n",
    "else:\n",
    "    dir = dir_local\n",
    "    print(\"Running locally!\")\n",
    "\n",
    "SAVE_PREPROCESSED_DATA = False  # Set to True to save preprocessed data\n",
    "\n",
    "# ============================================================================\n",
    "# PRINT CONFIGURATION SUMMARY\n",
    "# ============================================================================\n",
    "\n",
    "print(f\"\\n{'='*60}\")\n",
    "print(f\"EXPERIMENT CONFIGURATION\")\n",
    "print(f\"{'='*60}\")\n",
    "print(f\"Dataset:\")\n",
    "print(f\"  Market: {market}\")\n",
    "print(f\"  Companies: {num_companies}\")\n",
    "print(f\"  Features: {num_features}\")\n",
    "print(f\"  Window size: {window_size}\")\n",
    "print(f\"  Prediction horizon: {prediction_horizon}\")\n",
    "\n",
    "print(f\"\\nData Split:\")\n",
    "print(f\"  Train: {train_split*100:.0f}%\")\n",
    "print(f\"  Val:   {val_split*100:.0f}%\")\n",
    "print(f\"  Test:  {test_split*100:.0f}%\")\n",
    "\n",
    "print(f\"\\nModel Configuration:\")\n",
    "active_model = [k.replace('use_', '').upper() for k, v in MODEL_CONFIG.items() if k.startswith('use_') and v and k in ['use_gvar', 'use_gcn', 'use_gat']]\n",
    "print(f\"  Active model: {active_model[0] if active_model else 'NONE'}\")\n",
    "print(f\"  Graph structure: {'Yes' if MODEL_CONFIG['use_graph_structure'] else 'No (identity)'}\")\n",
    "print(f\"  Industry relations: {'Yes' if MODEL_CONFIG['use_industry_relations'] else 'No'}\")\n",
    "print(f\"  Wiki relations: {'Yes' if MODEL_CONFIG['use_wiki_relations'] else 'No'}\")\n",
    "print(f\"  Hidden dim: {MODEL_CONFIG['hidden_dim']}\")\n",
    "print(f\"  Learning rate: {MODEL_CONFIG['learning_rate']}\")\n",
    "\n",
    "print(f\"\\nTraining:\")\n",
    "print(f\"  Epochs: {epochs}\")\n",
    "print(f\"  Graph hops (K): {K}\")\n",
    "print(f\"  Early stopping patience: {early_stopping_patience}\")\n",
    "print(f\"{'='*60}\\n\")"
   ]
  },
  {
   "cell_type": "markdown",
   "source": "# Stock Prediction with Graph Neural Networks\n\n## 🎯 Quick Start Guide\n\n### Running Different Experiments\n\nAll experiments are controlled from **Cell 1 (Configuration)**. Simply modify the values and restart the kernel:\n\n```python\n# Example 1: Test with fewer companies\nnum_companies = 50\nwindow_size = 20\nMODEL_CONFIG['use_gat'] = True\n\n# Example 2: Disable graph structure (baseline)\nMODEL_CONFIG['use_graph_structure'] = False\n\n# Example 3: Use only industry relations\nMODEL_CONFIG['use_wiki_relations'] = False\nMODEL_CONFIG['use_industry_relations'] = True\n\n# Example 4: Try different model\nMODEL_CONFIG['use_gat'] = False\nMODEL_CONFIG['use_gcn'] = True\n```\n\n### Key Configuration Options\n\n**MODEL_CONFIG dictionary:**\n- `use_gvar`, `use_gcn`, `use_gat`: Choose which model to train\n- `use_graph_structure`: Set to False for baseline (no graph)\n- `use_industry_relations`: Include/exclude industry relationship data\n- `use_wiki_relations`: Include/exclude Wikipedia relationship data\n- `hidden_dim`: Size of hidden layers\n- `learning_rate`: Optimizer learning rate\n- `dropout`: Regularization parameter\n\n**Data splits:**\n- `train_split = 0.8`: 80% of timesteps for training\n- `val_split = 0.1`: 10% for validation\n- `test_split = 0.1`: 10% for testing\n- All splits preserve temporal order (no shuffling!)\n\n---\n\n## 📁 Notebook Structure\n\n### 1. Configuration (Cell 1)\n- **Modify this cell** to control all experiments\n- `MODEL_CONFIG` dictionary for feature flags\n- Train/val/test split ratios\n- All hyperparameters in one place\n\n### 2. Dependencies & Setup (Cells 2-3)\n- Package installation and imports\n- Device detection (CPU/GPU)\n\n### 3. Data Loading Functions (Cells 4-5)\n- `load_EOD_data()`: Load stock price data\n- `load_relation_data()`: Load company relationship data\n\n### 4. Data Loading (Cells 6-12)\n- Load market data (NASDAQ/NYSE)\n- Load company relationships (industry, wiki)\n- **Subsample to `num_companies`** (Cell 12)\n\n### 5. Utility Functions (Cell 15)\n- `build_adjacency_matrix()`: Create normalized adjacency (respects config flags)\n- `build_graph_shift_operator()`: Create GCN-style normalization\n- `prepare_data()`: Create sliding window datasets\n- `temporal_train_val_test_split()`: **Split by time** (80/10/10)\n- `calculate_loss()`: Masked loss computation\n\n### 6. Data Preparation (Cells 17-18)\n- Convert to PyTorch tensors\n- Build graph structures (respects config flags)\n- Create training data with sliding windows\n- **Split into train/val/test** temporally\n\n### 7. Model Definitions (Cells 19-26)\n- **GVarModel** (Cell 20): Vector autoregression baseline\n- **GCNModel** (Cell 24): Graph convolutional network\n- **GCNGATModel** (Cell 26): Graph attention network\n\n### 8. Training & Evaluation (Cells 27-28)\n- **Cell 27**: Full training loop with:\n  - Train/validation monitoring\n  - Early stopping\n  - Test set evaluation\n  - Best model selection\n- **Cell 28**: Training visualization (loss curves)\n\n---\n\n## ✅ Feature Verification\n\nThe notebook **automatically verifies** that all 5 stock features are being used:\n- Opens: High, Low, Close, Adj Close, Volume\n- Check output in Cell 27 for confirmation\n\n---\n\n## 🧪 Testing Different Configurations\n\n### Example 1: Ablation Study (Graph vs No Graph)\n\n**Step 1:** With graph structure\n```python\nMODEL_CONFIG['use_graph_structure'] = True\n```\n\n**Step 2:** Without graph structure (baseline)\n```python\nMODEL_CONFIG['use_graph_structure'] = False  # Uses identity matrix\n```\n\nRestart kernel and compare test set performance!\n\n### Example 2: Relation Type Comparison\n\nTest which relations help more:\n```python\n# Only industry\nMODEL_CONFIG['use_industry_relations'] = True\nMODEL_CONFIG['use_wiki_relations'] = False\n\n# Only wiki\nMODEL_CONFIG['use_industry_relations'] = False\nMODEL_CONFIG['use_wiki_relations'] = True\n\n# Both (default)\nMODEL_CONFIG['use_industry_relations'] = True\nMODEL_CONFIG['use_wiki_relations'] = True\n```\n\n### Example 3: Model Comparison\n\n```python\n# Test GAT\nMODEL_CONFIG['use_gat'] = True\nMODEL_CONFIG['use_gcn'] = False\nMODEL_CONFIG['use_gvar'] = False\n\n# Test GCN (uncomment alternative training cells)\nMODEL_CONFIG['use_gat'] = False\nMODEL_CONFIG['use_gcn'] = True\n```\n\n### Example 4: Hyperparameter Tuning\n\n```python\nMODEL_CONFIG['learning_rate'] = 0.0001  # Lower LR\nMODEL_CONFIG['hidden_dim'] = 32         # Bigger model\nMODEL_CONFIG['dropout'] = 0.3           # Less regularization\nepochs = 100                             # More training\n```\n\n---\n\n## 📊 Understanding the Output\n\n### Training Progress\n```\nEpoch [  1/20] | Train Loss: 0.328155 | Val Loss: 0.350221\n```\n- **Train Loss**: MSE on training data\n- **Val Loss**: MSE on validation data (used for early stopping)\n\n### Final Evaluation\n```\nFinal MSE Loss:\n  Train: 0.045123\n  Val:   0.052341\n  Test:  0.048765\n```\n- **Test Loss**: Performance on unseen future timesteps\n- Lower is better!\n\n### RMSE (Root Mean Squared Error)\nMore interpretable than MSE - in same units as stock prices.\n\n---\n\n## 💡 Tips\n\n1. **Always restart kernel** when changing configuration\n2. **Use temporal split** - never shuffle time series data!\n3. **Check validation loss** - if much higher than train loss → overfitting\n4. **Early stopping** prevents overtraining (patience = 20 epochs)\n5. **Test set is sacred** - only look at it for final evaluation!\n\n---",
   "metadata": {}
  },
  {
   "metadata": {
    "ExecuteTime": {
     "end_time": "2025-10-30T13:00:40.580636Z",
     "start_time": "2025-10-30T13:00:39.406248Z"
    }
   },
   "cell_type": "code",
   "source": [
    "%pip install torch-geometric\n",
    "%pip install statsmodels\n"
   ],
   "outputs": [
    {
     "name": "stdout",
     "output_type": "stream",
     "text": [
      "Error processing line 1 of /home/study/anaconda3/envs/Graph-Machine-Learning/lib/python3.11/site-packages/distutils-precedence.pth:\r\n",
      "\r\n",
      "  Traceback (most recent call last):\r\n",
      "    File \"<frozen site>\", line 195, in addpackage\r\n",
      "    File \"<string>\", line 1, in <module>\r\n",
      "  ModuleNotFoundError: No module named '_distutils_hack'\r\n",
      "\r\n",
      "Remainder of file ignored\r\n",
      "Requirement already satisfied: torch-geometric in /home/study/anaconda3/envs/Graph-Machine-Learning/lib/python3.11/site-packages (2.6.1)\r\n",
      "Requirement already satisfied: aiohttp in /home/study/anaconda3/envs/Graph-Machine-Learning/lib/python3.11/site-packages (from torch-geometric) (3.12.15)\r\n",
      "Requirement already satisfied: fsspec in /home/study/anaconda3/envs/Graph-Machine-Learning/lib/python3.11/site-packages (from torch-geometric) (2025.9.0)\r\n",
      "Requirement already satisfied: jinja2 in /home/study/anaconda3/envs/Graph-Machine-Learning/lib/python3.11/site-packages (from torch-geometric) (3.1.6)\r\n",
      "Requirement already satisfied: numpy in /home/study/anaconda3/envs/Graph-Machine-Learning/lib/python3.11/site-packages (from torch-geometric) (2.0.1)\r\n",
      "Requirement already satisfied: psutil>=5.8.0 in /home/study/anaconda3/envs/Graph-Machine-Learning/lib/python3.11/site-packages (from torch-geometric) (7.1.0)\r\n",
      "Requirement already satisfied: pyparsing in /home/study/anaconda3/envs/Graph-Machine-Learning/lib/python3.11/site-packages (from torch-geometric) (3.2.5)\r\n",
      "Requirement already satisfied: requests in /home/study/anaconda3/envs/Graph-Machine-Learning/lib/python3.11/site-packages (from torch-geometric) (2.32.5)\r\n",
      "Requirement already satisfied: tqdm in /home/study/anaconda3/envs/Graph-Machine-Learning/lib/python3.11/site-packages (from torch-geometric) (4.67.1)\r\n",
      "Requirement already satisfied: aiohappyeyeballs>=2.5.0 in /home/study/anaconda3/envs/Graph-Machine-Learning/lib/python3.11/site-packages (from aiohttp->torch-geometric) (2.6.1)\r\n",
      "Requirement already satisfied: aiosignal>=1.4.0 in /home/study/anaconda3/envs/Graph-Machine-Learning/lib/python3.11/site-packages (from aiohttp->torch-geometric) (1.4.0)\r\n",
      "Requirement already satisfied: attrs>=17.3.0 in /home/study/anaconda3/envs/Graph-Machine-Learning/lib/python3.11/site-packages (from aiohttp->torch-geometric) (25.4.0)\r\n",
      "Requirement already satisfied: frozenlist>=1.1.1 in /home/study/anaconda3/envs/Graph-Machine-Learning/lib/python3.11/site-packages (from aiohttp->torch-geometric) (1.8.0)\r\n",
      "Requirement already satisfied: multidict<7.0,>=4.5 in /home/study/anaconda3/envs/Graph-Machine-Learning/lib/python3.11/site-packages (from aiohttp->torch-geometric) (6.6.4)\r\n",
      "Requirement already satisfied: propcache>=0.2.0 in /home/study/anaconda3/envs/Graph-Machine-Learning/lib/python3.11/site-packages (from aiohttp->torch-geometric) (0.4.0)\r\n",
      "Requirement already satisfied: yarl<2.0,>=1.17.0 in /home/study/anaconda3/envs/Graph-Machine-Learning/lib/python3.11/site-packages (from aiohttp->torch-geometric) (1.21.0)\r\n",
      "Requirement already satisfied: MarkupSafe>=2.0 in /home/study/anaconda3/envs/Graph-Machine-Learning/lib/python3.11/site-packages (from jinja2->torch-geometric) (3.0.2)\r\n",
      "Requirement already satisfied: charset_normalizer<4,>=2 in /home/study/anaconda3/envs/Graph-Machine-Learning/lib/python3.11/site-packages (from requests->torch-geometric) (3.3.2)\r\n",
      "Requirement already satisfied: idna<4,>=2.5 in /home/study/anaconda3/envs/Graph-Machine-Learning/lib/python3.11/site-packages (from requests->torch-geometric) (3.7)\r\n",
      "Requirement already satisfied: urllib3<3,>=1.21.1 in /home/study/anaconda3/envs/Graph-Machine-Learning/lib/python3.11/site-packages (from requests->torch-geometric) (2.5.0)\r\n",
      "Requirement already satisfied: certifi>=2017.4.17 in /home/study/anaconda3/envs/Graph-Machine-Learning/lib/python3.11/site-packages (from requests->torch-geometric) (2025.10.5)\r\n",
      "Requirement already satisfied: typing-extensions>=4.2 in /home/study/anaconda3/envs/Graph-Machine-Learning/lib/python3.11/site-packages (from aiosignal>=1.4.0->aiohttp->torch-geometric) (4.15.0)\r\n",
      "\r\n",
      "\u001B[1m[\u001B[0m\u001B[34;49mnotice\u001B[0m\u001B[1;39;49m]\u001B[0m\u001B[39;49m A new release of pip is available: \u001B[0m\u001B[31;49m24.3.1\u001B[0m\u001B[39;49m -> \u001B[0m\u001B[32;49m25.3\u001B[0m\r\n",
      "\u001B[1m[\u001B[0m\u001B[34;49mnotice\u001B[0m\u001B[1;39;49m]\u001B[0m\u001B[39;49m To update, run: \u001B[0m\u001B[32;49mpip install --upgrade pip\u001B[0m\r\n",
      "Note: you may need to restart the kernel to use updated packages.\n",
      "Error processing line 1 of /home/study/anaconda3/envs/Graph-Machine-Learning/lib/python3.11/site-packages/distutils-precedence.pth:\r\n",
      "\r\n",
      "  Traceback (most recent call last):\r\n",
      "    File \"<frozen site>\", line 195, in addpackage\r\n",
      "    File \"<string>\", line 1, in <module>\r\n",
      "  ModuleNotFoundError: No module named '_distutils_hack'\r\n",
      "\r\n",
      "Remainder of file ignored\r\n",
      "Requirement already satisfied: statsmodels in /home/study/anaconda3/envs/Graph-Machine-Learning/lib/python3.11/site-packages (0.14.5)\r\n",
      "Requirement already satisfied: numpy<3,>=1.22.3 in /home/study/anaconda3/envs/Graph-Machine-Learning/lib/python3.11/site-packages (from statsmodels) (2.0.1)\r\n",
      "Requirement already satisfied: scipy!=1.9.2,>=1.8 in /home/study/anaconda3/envs/Graph-Machine-Learning/lib/python3.11/site-packages (from statsmodels) (1.16.2)\r\n",
      "Requirement already satisfied: pandas!=2.1.0,>=1.4 in /home/study/anaconda3/envs/Graph-Machine-Learning/lib/python3.11/site-packages (from statsmodels) (2.3.3)\r\n",
      "Requirement already satisfied: patsy>=0.5.6 in /home/study/anaconda3/envs/Graph-Machine-Learning/lib/python3.11/site-packages (from statsmodels) (1.0.1)\r\n",
      "Requirement already satisfied: packaging>=21.3 in /home/study/anaconda3/envs/Graph-Machine-Learning/lib/python3.11/site-packages (from statsmodels) (25.0)\r\n",
      "Requirement already satisfied: python-dateutil>=2.8.2 in /home/study/anaconda3/envs/Graph-Machine-Learning/lib/python3.11/site-packages (from pandas!=2.1.0,>=1.4->statsmodels) (2.9.0.post0)\r\n",
      "Requirement already satisfied: pytz>=2020.1 in /home/study/anaconda3/envs/Graph-Machine-Learning/lib/python3.11/site-packages (from pandas!=2.1.0,>=1.4->statsmodels) (2025.2)\r\n",
      "Requirement already satisfied: tzdata>=2022.7 in /home/study/anaconda3/envs/Graph-Machine-Learning/lib/python3.11/site-packages (from pandas!=2.1.0,>=1.4->statsmodels) (2025.2)\r\n",
      "Requirement already satisfied: six>=1.5 in /home/study/anaconda3/envs/Graph-Machine-Learning/lib/python3.11/site-packages (from python-dateutil>=2.8.2->pandas!=2.1.0,>=1.4->statsmodels) (1.17.0)\r\n",
      "\r\n",
      "\u001B[1m[\u001B[0m\u001B[34;49mnotice\u001B[0m\u001B[1;39;49m]\u001B[0m\u001B[39;49m A new release of pip is available: \u001B[0m\u001B[31;49m24.3.1\u001B[0m\u001B[39;49m -> \u001B[0m\u001B[32;49m25.3\u001B[0m\r\n",
      "\u001B[1m[\u001B[0m\u001B[34;49mnotice\u001B[0m\u001B[1;39;49m]\u001B[0m\u001B[39;49m To update, run: \u001B[0m\u001B[32;49mpip install --upgrade pip\u001B[0m\r\n",
      "Note: you may need to restart the kernel to use updated packages.\n"
     ]
    }
   ],
   "execution_count": 2
  },
  {
   "cell_type": "code",
   "source": "# ============================================================================\n# IMPORTS\n# ============================================================================\n\nimport torch\nimport torch.nn as nn\nimport torch.optim as optim\nimport torch.nn.functional as F\nimport numpy as np\nimport networkx as nx\nimport pandas as pd\nimport matplotlib.pyplot as plt\nimport matplotlib.image as mpimg\nfrom torch_geometric.nn import GATConv\nimport os\n\n# Set device\ndevice = torch.device('cuda' if torch.cuda.is_available() else 'cpu')\nprint(\"Using device:\", device)",
   "metadata": {
    "id": "9j8W6h4rkMKv",
    "trusted": true,
    "execution": {
     "iopub.status.busy": "2025-10-29T17:53:25.354718Z",
     "iopub.execute_input": "2025-10-29T17:53:25.354874Z",
     "iopub.status.idle": "2025-10-29T17:53:29.553412Z",
     "shell.execute_reply.started": "2025-10-29T17:53:25.354862Z",
     "shell.execute_reply": "2025-10-29T17:53:29.552648Z"
    },
    "ExecuteTime": {
     "end_time": "2025-10-30T13:00:44.056279Z",
     "start_time": "2025-10-30T13:00:41.438095Z"
    }
   },
   "outputs": [
    {
     "name": "stdout",
     "output_type": "stream",
     "text": [
      "Using device: cuda\n"
     ]
    }
   ],
   "execution_count": 3
  },
  {
   "cell_type": "code",
   "source": "\"\"\"\nCOPIED FROM THE PAPER\nsource code: https://github.com/fulifeng/Temporal_Relational_Stock_Ranking\n\"\"\"\ndef load_EOD_data(data_path, market_name, tickers, steps=1):\n    eod_data = []\n    masks = []\n    ground_truth = []\n    base_price = []\n\n    # Determine the expected number of rows based on the first ticker's data\n    first_ticker_path = os.path.join(data_path, market_name + '_' + tickers[0] + '_1.csv')\n    try:\n        first_df = pd.read_csv(first_ticker_path, header=None)\n        num_days = first_df.shape[0] - (1 if market_name == 'NASDAQ' else 0) # Remove last row for NASDAQ\n        num_features = first_df.shape[1] - 1 # Exclude the date column\n    except Exception as e:\n        print(f\"Error reading first ticker file {first_ticker_path}: {e}\")\n        return None, None, None, None\n\n    eod_data = np.zeros([len(tickers), num_days, num_features], dtype=np.float32)\n    masks = np.ones([len(tickers), num_days], dtype=np.float32)\n    ground_truth = np.zeros([len(tickers), num_days], dtype=np.float32) # We're not using this one\n    base_price = np.zeros([len(tickers), num_days], dtype=np.float32)\n\n    for index, ticker in enumerate(tickers):\n        if index % 50 == 0:\n          print(f\"Processed [{index}/{tickers.shape[0]}] tickers\")\n        single_EOD_path = os.path.join(data_path, market_name + '_' + ticker + '_1.csv')\n\n        try:\n            single_df = pd.read_csv(single_EOD_path, header=None)\n            if market_name == 'NASDAQ':\n                single_df = single_df[:-1] # remove the last day since lots of missing data\n\n            # Handle missing values (-1234)\n            single_EOD = single_df.values\n            mask_row_indices, mask_col_indices = np.where(np.abs(single_EOD + 1234) < 1e-8)\n            single_EOD[mask_row_indices, mask_col_indices] = 1.1 # Replace missing values\n\n            # Update masks based on missing closing price\n            missing_close_indices = np.where(np.abs(single_EOD[:, -1] + 1234) < 1e-8)[0]\n            masks[index, missing_close_indices] = 0.0\n\n            eod_data[index, :, :] = single_EOD[:, 1:] # Exclude date column\n            base_price[index, :] = single_EOD[:, -1]\n\n        except Exception as e:\n            print(f\"Error reading ticker file {single_EOD_path}: {e}\")\n            # Mark all days for this ticker as invalid if file reading fails\n            masks[index, :] = 0.0\n\n\n    print('eod data shape:', eod_data.shape)\n    return eod_data, masks, ground_truth, base_price",
   "metadata": {
    "id": "lxx4rTcGrQ51",
    "trusted": true,
    "execution": {
     "iopub.status.busy": "2025-10-29T17:53:29.554303Z",
     "iopub.execute_input": "2025-10-29T17:53:29.554772Z",
     "iopub.status.idle": "2025-10-29T17:53:29.564819Z",
     "shell.execute_reply.started": "2025-10-29T17:53:29.554746Z",
     "shell.execute_reply": "2025-10-29T17:53:29.563943Z"
    },
    "ExecuteTime": {
     "end_time": "2025-10-30T13:00:44.065148Z",
     "start_time": "2025-10-30T13:00:44.060396Z"
    }
   },
   "outputs": [],
   "execution_count": 4
  },
  {
   "cell_type": "code",
   "source": "\"\"\"\nCOPIED FROM THE PAPER\nsource code: https://github.com/fulifeng/Temporal_Relational_Stock_Ranking\n\"\"\"\ndef load_relation_data(relation_file):\n    relation_encoding = np.load(relation_file)\n    print('relation encoding shape:', relation_encoding.shape)\n    rel_shape = [relation_encoding.shape[0], relation_encoding.shape[1]]\n    mask_flags = np.equal(np.zeros(rel_shape, dtype=int),\n                          np.sum(relation_encoding, axis=2))\n    mask = np.where(mask_flags, np.ones(rel_shape) * -1e9, np.zeros(rel_shape))\n    return relation_encoding, mask",
   "metadata": {
    "id": "152QpGtv3cLe",
    "trusted": true,
    "execution": {
     "iopub.status.busy": "2025-10-29T17:53:29.565722Z",
     "iopub.execute_input": "2025-10-29T17:53:29.565979Z",
     "iopub.status.idle": "2025-10-29T17:53:29.584380Z",
     "shell.execute_reply.started": "2025-10-29T17:53:29.565962Z",
     "shell.execute_reply": "2025-10-29T17:53:29.583828Z"
    },
    "ExecuteTime": {
     "end_time": "2025-10-30T13:00:44.113106Z",
     "start_time": "2025-10-30T13:00:44.110027Z"
    }
   },
   "outputs": [],
   "execution_count": 5
  },
  {
   "cell_type": "markdown",
   "source": "# Loading data",
   "metadata": {
    "id": "FSE-7G93pDs4"
   }
  },
  {
   "cell_type": "code",
   "source": "# market = \"NYSE\"\nmarket = \"NASDAQ\"",
   "metadata": {
    "id": "2UI3iC-ohQfJ",
    "trusted": true,
    "execution": {
     "iopub.status.busy": "2025-10-29T17:53:29.586622Z",
     "iopub.execute_input": "2025-10-29T17:53:29.586870Z",
     "iopub.status.idle": "2025-10-29T17:53:29.597891Z",
     "shell.execute_reply.started": "2025-10-29T17:53:29.586843Z",
     "shell.execute_reply": "2025-10-29T17:53:29.597176Z"
    },
    "ExecuteTime": {
     "end_time": "2025-10-30T13:00:44.159159Z",
     "start_time": "2025-10-30T13:00:44.157533Z"
    }
   },
   "outputs": [],
   "execution_count": 6
  },
  {
   "cell_type": "code",
   "source": "industry_encodings, industry_mask = load_relation_data(dir+f'/relation/sector_industry/{market}_industry_relation.npy')",
   "metadata": {
    "colab": {
     "base_uri": "https://localhost:8080/"
    },
    "id": "Fowuc2213lyG",
    "outputId": "27ad7c92-3a47-4f23-fbe3-054969e44eb0",
    "trusted": true,
    "execution": {
     "iopub.status.busy": "2025-10-29T17:53:29.598625Z",
     "iopub.execute_input": "2025-10-29T17:53:29.598853Z",
     "iopub.status.idle": "2025-10-29T17:53:32.366766Z",
     "shell.execute_reply.started": "2025-10-29T17:53:29.598834Z",
     "shell.execute_reply": "2025-10-29T17:53:32.366010Z"
    },
    "ExecuteTime": {
     "end_time": "2025-10-30T13:00:44.297006Z",
     "start_time": "2025-10-30T13:00:44.204070Z"
    }
   },
   "outputs": [
    {
     "name": "stdout",
     "output_type": "stream",
     "text": [
      "relation encoding shape: (1026, 1026, 97)\n"
     ]
    }
   ],
   "execution_count": 7
  },
  {
   "cell_type": "code",
   "source": "wiki_encodings, wiki_mask = load_relation_data(dir+f'/relation/wikidata/{market}_wiki_relation.npy')",
   "metadata": {
    "colab": {
     "base_uri": "https://localhost:8080/"
    },
    "id": "fDEWN7RA4Gbt",
    "outputId": "b25d974f-c25b-491f-bbe0-4ddfd7c9e99a",
    "trusted": true,
    "execution": {
     "iopub.status.busy": "2025-10-29T17:53:32.367567Z",
     "iopub.execute_input": "2025-10-29T17:53:32.367823Z",
     "iopub.status.idle": "2025-10-29T17:53:33.695882Z",
     "shell.execute_reply.started": "2025-10-29T17:53:32.367805Z",
     "shell.execute_reply": "2025-10-29T17:53:33.695144Z"
    },
    "ExecuteTime": {
     "end_time": "2025-10-30T13:00:44.349919Z",
     "start_time": "2025-10-30T13:00:44.302517Z"
    }
   },
   "outputs": [
    {
     "name": "stdout",
     "output_type": "stream",
     "text": [
      "relation encoding shape: (1026, 1026, 43)\n"
     ]
    }
   ],
   "execution_count": 8
  },
  {
   "cell_type": "code",
   "source": "# Load company names\ntickers = np.loadtxt(dir+f'/{market}_tickers.csv', dtype=str)\nprint('tickers shape (# of companies):', tickers.shape)",
   "metadata": {
    "colab": {
     "base_uri": "https://localhost:8080/"
    },
    "id": "W220yLcuM08d",
    "outputId": "68fe3e97-6354-4695-d821-2ef503fa6354",
    "trusted": true,
    "execution": {
     "iopub.status.busy": "2025-10-29T17:53:33.696692Z",
     "iopub.execute_input": "2025-10-29T17:53:33.696988Z",
     "iopub.status.idle": "2025-10-29T17:53:33.706205Z",
     "shell.execute_reply.started": "2025-10-29T17:53:33.696960Z",
     "shell.execute_reply": "2025-10-29T17:53:33.705625Z"
    },
    "ExecuteTime": {
     "end_time": "2025-10-30T13:00:44.358495Z",
     "start_time": "2025-10-30T13:00:44.355403Z"
    }
   },
   "outputs": [
    {
     "name": "stdout",
     "output_type": "stream",
     "text": [
      "tickers shape (# of companies): (1026,)\n"
     ]
    }
   ],
   "execution_count": 9
  },
  {
   "cell_type": "code",
   "source": "eod_data, eod_masks, eod_ground_truth, eod_base_price = load_EOD_data(dir+\"/2013-01-01\", market, tickers)",
   "metadata": {
    "colab": {
     "base_uri": "https://localhost:8080/"
    },
    "id": "fwhOJ--P4jKe",
    "outputId": "70e65b50-499e-4abc-af6a-a98b6fdfe52e",
    "trusted": true,
    "execution": {
     "iopub.status.busy": "2025-10-29T17:53:33.706954Z",
     "iopub.execute_input": "2025-10-29T17:53:33.707134Z",
     "iopub.status.idle": "2025-10-29T17:53:42.849678Z",
     "shell.execute_reply.started": "2025-10-29T17:53:33.707119Z",
     "shell.execute_reply": "2025-10-29T17:53:42.848944Z"
    },
    "ExecuteTime": {
     "end_time": "2025-10-30T13:00:45.079375Z",
     "start_time": "2025-10-30T13:00:44.402942Z"
    }
   },
   "outputs": [
    {
     "name": "stdout",
     "output_type": "stream",
     "text": [
      "Processed [0/1026] tickers\n",
      "Processed [50/1026] tickers\n",
      "Processed [100/1026] tickers\n",
      "Processed [150/1026] tickers\n",
      "Processed [200/1026] tickers\n",
      "Processed [250/1026] tickers\n",
      "Processed [300/1026] tickers\n",
      "Processed [350/1026] tickers\n",
      "Processed [400/1026] tickers\n",
      "Processed [450/1026] tickers\n",
      "Processed [500/1026] tickers\n",
      "Processed [550/1026] tickers\n",
      "Processed [600/1026] tickers\n",
      "Processed [650/1026] tickers\n",
      "Processed [700/1026] tickers\n",
      "Processed [750/1026] tickers\n",
      "Processed [800/1026] tickers\n",
      "Processed [850/1026] tickers\n",
      "Processed [900/1026] tickers\n",
      "Processed [950/1026] tickers\n",
      "Processed [1000/1026] tickers\n",
      "eod data shape: (1026, 1245, 5)\n"
     ]
    }
   ],
   "execution_count": 10
  },
  {
   "cell_type": "code",
   "source": "# ============================================================================\n# SUBSAMPLE DATA TO num_companies\n# ============================================================================\n# This cell ensures all data uses the same subset of companies consistently\n\nprint(f\"Subsampling to {num_companies} companies...\")\n\n# Subsample relation data (company x company matrices)\nwiki_encodings = wiki_encodings[:num_companies, :num_companies, :]\nwiki_mask = wiki_mask[:num_companies, :num_companies]\nindustry_encodings = industry_encodings[:num_companies, :num_companies, :]\nindustry_mask = industry_mask[:num_companies, :num_companies]\n\n# Subsample EOD data (reload with subset of tickers)\neod_data, eod_masks, eod_ground_truth, eod_base_price = load_EOD_data(\n    dir + \"/2013-01-01\", \n    market, \n    tickers[:num_companies]\n)\n\nprint(f\"\\nSubsampled data shapes:\")\nprint(f\"  EOD data: {eod_data.shape}\")\nprint(f\"  Industry encodings: {industry_encodings.shape}\")\nprint(f\"  Wiki encodings: {wiki_encodings.shape}\")",
   "metadata": {
    "id": "U1madQ_P7Hq-",
    "trusted": true,
    "execution": {
     "iopub.status.busy": "2025-10-29T17:58:31.973344Z",
     "iopub.execute_input": "2025-10-29T17:58:31.973917Z",
     "iopub.status.idle": "2025-10-29T17:58:32.823635Z",
     "shell.execute_reply.started": "2025-10-29T17:58:31.973896Z",
     "shell.execute_reply": "2025-10-29T17:58:32.822766Z"
    },
    "ExecuteTime": {
     "end_time": "2025-10-30T13:00:45.187204Z",
     "start_time": "2025-10-30T13:00:45.083098Z"
    }
   },
   "outputs": [
    {
     "name": "stdout",
     "output_type": "stream",
     "text": [
      "Subsampling to 150 companies...\n",
      "Processed [0/150] tickers\n",
      "Processed [50/150] tickers\n",
      "Processed [100/150] tickers\n",
      "eod data shape: (150, 1245, 5)\n",
      "\n",
      "Subsampled data shapes:\n",
      "  EOD data: (150, 1245, 5)\n",
      "  Industry encodings: (150, 150, 97)\n",
      "  Wiki encodings: (150, 150, 43)\n"
     ]
    }
   ],
   "execution_count": 11
  },
  {
   "cell_type": "markdown",
   "source": "# Graph based Models",
   "metadata": {
    "id": "2aaU7CdApNk_"
   }
  },
  {
   "cell_type": "code",
   "source": "# ============================================================================\n# UTILITY FUNCTIONS - Graph and Data Preparation\n# ============================================================================\n\ndef build_adjacency_matrix(industry_encodings, industry_mask, wiki_encodings, wiki_mask, device):\n    \"\"\"\n    Build normalized adjacency matrix from relation encodings and masks\n    \n    Args:\n        industry_encodings: [num_companies, num_companies, num_relation_types]\n        industry_mask: [num_companies, num_companies] (-1e9 for no relation, 0 for valid)\n        wiki_encodings: [num_companies, num_companies, num_relation_types]\n        wiki_mask: [num_companies, num_companies]\n    \n    Returns:\n        adjacency_matrix: [num_companies, num_companies] - normalized adjacency\n    \"\"\"\n    # Combine relation encodings by summing across relation types\n    industry_adj = torch.sum(industry_encodings, dim=-1) if MODEL_CONFIG['use_industry_relations'] else 0\n    wiki_adj = torch.sum(wiki_encodings, dim=-1) if MODEL_CONFIG['use_wiki_relations'] else 0\n    \n    # Combine both relation types\n    combined_adj = industry_adj + wiki_adj\n    \n    # Apply masks: where mask is -1e9 (no relation), set adjacency to 0\n    combined_mask = industry_mask + wiki_mask\n    combined_adj = torch.where(combined_mask < -1e8, torch.zeros_like(combined_adj), combined_adj)\n    \n    # If not using graph structure, return identity matrix\n    if not MODEL_CONFIG['use_graph_structure']:\n        return torch.eye(combined_adj.shape[0], device=device)\n    \n    # Normalize: row-wise normalization (each row sums to 1)\n    row_sums = combined_adj.sum(dim=1, keepdim=True)\n    adjacency_matrix = combined_adj / (row_sums + 1e-8)\n    \n    return adjacency_matrix.to(device)\n\n\ndef build_graph_shift_operator(industry_encodings, industry_mask, wiki_encodings, wiki_mask, device):\n    \"\"\"\n    Build graph shift operator (symmetric normalized adjacency) for GCN models\n    Using D^(-1/2) * A * D^(-1/2) normalization\n    \n    Returns:\n        graph_shift_operator: [num_companies, num_companies]\n    \"\"\"\n    # Combine relation encodings\n    industry_adj = torch.sum(industry_encodings, dim=-1) if MODEL_CONFIG['use_industry_relations'] else 0\n    wiki_adj = torch.sum(wiki_encodings, dim=-1) if MODEL_CONFIG['use_wiki_relations'] else 0\n    combined_adj = industry_adj + wiki_adj\n    \n    # Apply masks\n    combined_mask = industry_mask + wiki_mask\n    combined_adj = torch.where(combined_mask < -1e8, torch.zeros_like(combined_adj), combined_adj)\n    \n    # If not using graph structure, return identity matrix\n    if not MODEL_CONFIG['use_graph_structure']:\n        return torch.eye(combined_adj.shape[0], device=device)\n    \n    # Symmetric normalization: D^(-1/2) * A * D^(-1/2)\n    degree_matrix = torch.diag(torch.pow(torch.sum(combined_adj, dim=1), -0.5))\n    graph_shift_operator = degree_matrix @ combined_adj.float() @ degree_matrix\n    \n    return graph_shift_operator.to(device)\n\n\ndef prepare_data(eod_data, masks, base_price, device, window_size=20, prediction_horizon=1):\n    \"\"\"\n    Create sliding windows for time series prediction with mask handling\n    \n    Args:\n        eod_data: [num_companies, num_days, num_features]\n        masks: [num_companies, num_days] - 1.0 for valid, 0.0 for missing\n        base_price: [num_companies, num_days] - closing price of stock\n        window_size: Number of historical days to use as input\n        prediction_horizon: Number of days ahead to predict (usually 1)\n    \n    Returns:\n        X: Input windows [num_samples, num_companies, window_size, num_features]\n        y: Target prices [num_samples, num_companies, prediction_horizon]\n        sample_masks: Valid sample indicators [num_samples, num_companies]\n    \"\"\"\n    num_companies, num_days, num_features = eod_data.shape\n    num_samples = num_days - window_size - prediction_horizon + 1\n    \n    X = torch.zeros(num_samples, num_companies, window_size, num_features, device=device)\n    y = torch.zeros(num_samples, num_companies, prediction_horizon, device=device)\n    sample_masks = torch.zeros(num_samples, num_companies, device=device)\n    \n    for i in range(num_samples):\n        X[i] = eod_data[:, i:i+window_size, :]\n        y[i, :, :] = base_price[:, i+window_size:i+window_size+prediction_horizon]\n        \n        # A sample is valid if all days in the window AND the target day are valid\n        window_valid = masks[:, i:i+window_size].min(dim=1)[0]  # [num_companies]\n        target_valid = masks[:, i+window_size:i+window_size+prediction_horizon].min(dim=1)[0]\n        sample_masks[i] = window_valid * target_valid\n    \n    return X, y, sample_masks\n\n\ndef temporal_train_val_test_split(X, y, masks, train_ratio=0.8, val_ratio=0.1, test_ratio=0.1):\n    \"\"\"\n    Split data temporally into train/validation/test sets\n    IMPORTANT: Splits based on TIME, not randomly (preserves temporal order)\n    \n    Args:\n        X: [num_samples, num_companies, window_size, num_features]\n        y: [num_samples, num_companies, prediction_horizon]\n        masks: [num_samples, num_companies]\n        train_ratio: Proportion for training (e.g., 0.8 = 80%)\n        val_ratio: Proportion for validation (e.g., 0.1 = 10%)\n        test_ratio: Proportion for test (e.g., 0.1 = 10%)\n    \n    Returns:\n        Dictionary with train/val/test splits for X, y, and masks\n    \"\"\"\n    assert abs(train_ratio + val_ratio + test_ratio - 1.0) < 1e-6, \"Ratios must sum to 1.0\"\n    \n    num_samples = X.shape[0]\n    \n    # Calculate split indices based on time\n    train_end = int(num_samples * train_ratio)\n    val_end = int(num_samples * (train_ratio + val_ratio))\n    \n    # Split data temporally\n    splits = {\n        'X_train': X[:train_end],\n        'y_train': y[:train_end],\n        'masks_train': masks[:train_end],\n        \n        'X_val': X[train_end:val_end],\n        'y_val': y[train_end:val_end],\n        'masks_val': masks[train_end:val_end],\n        \n        'X_test': X[val_end:],\n        'y_test': y[val_end:],\n        'masks_test': masks[val_end:],\n    }\n    \n    # Print split information\n    print(f\"\\nTemporal Data Split:\")\n    print(f\"  Train: samples [0:{train_end}] = {splits['X_train'].shape[0]} timesteps\")\n    print(f\"  Val:   samples [{train_end}:{val_end}] = {splits['X_val'].shape[0]} timesteps\")\n    print(f\"  Test:  samples [{val_end}:{num_samples}] = {splits['X_test'].shape[0]} timesteps\")\n    \n    print(f\"\\n  Valid train samples: {splits['masks_train'].sum().item():.0f} / {splits['masks_train'].numel()}\")\n    print(f\"  Valid val samples:   {splits['masks_val'].sum().item():.0f} / {splits['masks_val'].numel()}\")\n    print(f\"  Valid test samples:  {splits['masks_test'].sum().item():.0f} / {splits['masks_test'].numel()}\")\n    \n    return splits\n\n\ndef adjacency_to_edges(adjacency_matrix):\n    \"\"\"\n    Convert adjacency matrix to edge_index and edge_weight for PyTorch Geometric\n    \n    Args:\n        adjacency_matrix: [num_companies, num_companies] tensor\n        \n    Returns:\n        edge_index: [2, num_edges] - edge connectivity\n        edge_weight: [num_edges, 1] - edge weights\n    \"\"\"\n    adj_np = adjacency_matrix.cpu().numpy()\n    rows, cols = np.where(adj_np > 0)\n    edge_weights = adj_np[rows, cols]\n    edge_index = torch.tensor(np.stack([rows, cols]), dtype=torch.long)\n    edge_weight = torch.tensor(edge_weights, dtype=torch.float32).view(-1, 1)\n    return edge_index, edge_weight\n\n\ndef calculate_loss(predictions, targets, masks, criterion):\n    \"\"\"\n    Calculate masked loss (only compute loss on valid samples)\n    \n    Args:\n        predictions: Model predictions [batch, companies, output_dim]\n        targets: Ground truth [batch, companies, output_dim]\n        masks: Valid sample mask [batch, companies]\n        criterion: Loss function (should have reduction='none')\n    \n    Returns:\n        loss: Scalar loss value\n    \"\"\"\n    loss_per_sample = criterion(predictions, targets)\n    masked_loss = loss_per_sample * masks.unsqueeze(-1)\n    num_valid = masks.sum() + 1e-8\n    loss = masked_loss.sum() / num_valid\n    return loss\n\n\nprint(\"Utility functions loaded successfully!\")",
   "metadata": {
    "id": "wgYbWmhHHA3u",
    "trusted": true,
    "execution": {
     "iopub.status.busy": "2025-10-29T17:53:42.854837Z",
     "iopub.execute_input": "2025-10-29T17:53:42.855015Z",
     "iopub.status.idle": "2025-10-29T17:53:42.866146Z",
     "shell.execute_reply.started": "2025-10-29T17:53:42.855002Z",
     "shell.execute_reply": "2025-10-29T17:53:42.865576Z"
    },
    "ExecuteTime": {
     "end_time": "2025-10-30T13:00:45.202428Z",
     "start_time": "2025-10-30T13:00:45.191401Z"
    }
   },
   "outputs": [
    {
     "name": "stdout",
     "output_type": "stream",
     "text": [
      "Utility functions loaded successfully!\n"
     ]
    }
   ],
   "execution_count": 12
  },
  {
   "cell_type": "code",
   "source": "!export PYTORCH_CUDA_ALLOC_CONF=expandable_segments:True",
   "metadata": {
    "id": "H-6FODpFEYEy",
    "trusted": true,
    "execution": {
     "iopub.status.busy": "2025-10-29T17:53:42.876889Z",
     "iopub.execute_input": "2025-10-29T17:53:42.877144Z",
     "iopub.status.idle": "2025-10-29T17:53:43.011502Z",
     "shell.execute_reply.started": "2025-10-29T17:53:42.877120Z",
     "shell.execute_reply": "2025-10-29T17:53:43.010747Z"
    },
    "ExecuteTime": {
     "end_time": "2025-10-30T13:00:45.501073Z",
     "start_time": "2025-10-30T13:00:45.237478Z"
    }
   },
   "outputs": [],
   "execution_count": 13
  },
  {
   "cell_type": "code",
   "source": "# ============================================================================\n# CONVERT DATA TO TENSORS\n# ============================================================================\n\nprint(f\"Converting data to tensors for {num_companies} companies...\")\n\n# Convert to tensors - use the already subsampled data\neod_data_tensor = torch.tensor(eod_data, dtype=torch.float32)\nmasks_tensor = torch.tensor(eod_masks, dtype=torch.float32)\nprice_prediction = torch.tensor(eod_base_price, dtype=torch.float32)\n\n# Relation data tensors\nindustry_encodings_tensor = torch.tensor(industry_encodings, dtype=torch.float32)\nindustry_mask_tensor = torch.tensor(industry_mask, dtype=torch.float32)\nwiki_encodings_tensor = torch.tensor(wiki_encodings, dtype=torch.float32)\nwiki_mask_tensor = torch.tensor(wiki_mask, dtype=torch.float32)\n\nprint(f\"\\nTensor shapes:\")\nprint(f\"  EOD data: {eod_data_tensor.shape}\")\nprint(f\"  Masks: {masks_tensor.shape}\")\nprint(f\"  Price prediction: {price_prediction.shape}\")\nprint(f\"  Industry encodings: {industry_encodings_tensor.shape}\")\nprint(f\"  Wiki encodings: {wiki_encodings_tensor.shape}\")",
   "metadata": {
    "ExecuteTime": {
     "end_time": "2025-10-30T13:00:45.512131Z",
     "start_time": "2025-10-30T13:00:45.506108Z"
    }
   },
   "outputs": [
    {
     "name": "stdout",
     "output_type": "stream",
     "text": [
      "Converting data to tensors for 150 companies...\n",
      "\n",
      "Tensor shapes:\n",
      "  EOD data: torch.Size([150, 1245, 5])\n",
      "  Masks: torch.Size([150, 1245])\n",
      "  Price prediction: torch.Size([150, 1245])\n",
      "  Industry encodings: torch.Size([150, 150, 97])\n",
      "  Wiki encodings: torch.Size([150, 150, 43])\n"
     ]
    }
   ],
   "execution_count": 14
  },
  {
   "cell_type": "code",
   "source": "# ============================================================================\n# PREPARE TRAINING DATA WITH TRAIN/VAL/TEST SPLIT\n# ============================================================================\n\nprint(f\"Preparing training data with window_size={window_size}, prediction_horizon={prediction_horizon}...\")\n\n# Build graph structures\nadjacency_matrix = build_adjacency_matrix(\n    industry_encodings_tensor, industry_mask_tensor,\n    wiki_encodings_tensor, wiki_mask_tensor,\n    device=device\n)\n\ngraph_shift_operator = build_graph_shift_operator(\n    industry_encodings_tensor, industry_mask_tensor,\n    wiki_encodings_tensor, wiki_mask_tensor,\n    device=device\n)\n\n# Prepare temporal data with sliding windows\nX_all, y_all, masks_all = prepare_data(\n    eod_data_tensor, masks_tensor, price_prediction,\n    window_size=window_size,\n    prediction_horizon=prediction_horizon,\n    device=device\n)\n\nprint(f\"\\nFull dataset prepared:\")\nprint(f\"  X_all: {X_all.shape}\")\nprint(f\"  y_all: {y_all.shape}\")\nprint(f\"  masks_all: {masks_all.shape}\")\n\n# Split data temporally into train/val/test\ndata_splits = temporal_train_val_test_split(\n    X_all, y_all, masks_all,\n    train_ratio=train_split,\n    val_ratio=val_split,\n    test_ratio=test_split\n)\n\n# Extract splits for easier access\nX_train = data_splits['X_train']\ny_train = data_splits['y_train']\nmasks_train = data_splits['masks_train']\n\nX_val = data_splits['X_val']\ny_val = data_splits['y_val']\nmasks_val = data_splits['masks_val']\n\nX_test = data_splits['X_test']\ny_test = data_splits['y_test']\nmasks_test = data_splits['masks_test']\n\n# Convert adjacency to edge format for GAT models\nedge_index, edge_weight = adjacency_to_edges(adjacency_matrix)\nedge_index = edge_index.to(device)\nedge_weight = edge_weight.to(device)\n\nprint(f\"\\n{'='*60}\")\nprint(f\"Graph structure:\")\nprint(f\"  Adjacency matrix: {adjacency_matrix.shape}\")\nprint(f\"  Edge index: {edge_index.shape}\")\nprint(f\"  Edge weight: {edge_weight.shape}\")\nprint(f\"  Total edges: {edge_index.shape[1]}\")\nprint(f\"{'='*60}\")",
   "metadata": {
    "colab": {
     "base_uri": "https://localhost:8080/"
    },
    "id": "feQ_WQ2JrkPY",
    "outputId": "1708b013-d82a-4ee3-f1c0-e501f50fef1a",
    "trusted": true,
    "execution": {
     "iopub.status.busy": "2025-10-29T17:54:48.397770Z",
     "iopub.execute_input": "2025-10-29T17:54:48.398489Z",
     "iopub.status.idle": "2025-10-29T17:54:48.999323Z",
     "shell.execute_reply.started": "2025-10-29T17:54:48.398465Z",
     "shell.execute_reply": "2025-10-29T17:54:48.998433Z"
    },
    "ExecuteTime": {
     "end_time": "2025-10-30T13:00:45.716419Z",
     "start_time": "2025-10-30T13:00:45.555096Z"
    }
   },
   "outputs": [
    {
     "name": "stdout",
     "output_type": "stream",
     "text": [
      "Preparing training data with window_size=20, prediction_horizon=1...\n",
      "\n",
      "Full dataset prepared:\n",
      "  X_all: torch.Size([1225, 150, 20, 5])\n",
      "  y_all: torch.Size([1225, 150, 1])\n",
      "  masks_all: torch.Size([1225, 150])\n",
      "\n",
      "Temporal Data Split:\n",
      "  Train: samples [0:980] = 980 timesteps\n",
      "  Val:   samples [980:1102] = 122 timesteps\n",
      "  Test:  samples [1102:1225] = 123 timesteps\n",
      "\n",
      "  Valid train samples: 147000 / 147000\n",
      "  Valid val samples:   18300 / 18300\n",
      "  Valid test samples:  18450 / 18450\n",
      "\n",
      "============================================================\n",
      "Graph structure:\n",
      "  Adjacency matrix: torch.Size([150, 150])\n",
      "  Edge index: torch.Size([2, 176])\n",
      "  Edge weight: torch.Size([176, 1])\n",
      "  Total edges: 176\n",
      "============================================================\n"
     ]
    }
   ],
   "execution_count": 15
  },
  {
   "cell_type": "code",
   "source": "\"\"\"\nSimple G-VAR (Graph Vector AutoRegression) for Stock Price Prediction\nCombines temporal dependencies (VAR) with graph structure (GNN)\nUpdated to match the paper's data format\n\"\"\"\n\n# ============================================================================\n# Simple G-Var\n# ============================================================================\n\nclass GVarModel(nn.Module):\n    def __init__(self, input_dim, output_dim, num_companies, device, K=2):\n        \"\"\"\n        Args:\n            input_dim: Number of features * window_size per company\n            output_dim: Prediction dimension (1 for return prediction)\n            num_companies: Number of stocks (e.g., 150)\n            K: Number of graph hops\n        \"\"\"\n        super(GVarModel, self).__init__()\n        self.device = device\n        self.K = K\n        self.num_companies = num_companies\n        self.output_dim = output_dim\n\n        self.graph_layers = nn.ModuleList([\n            nn.Linear(input_dim, 1) for _ in range(K + 1)\n        ])\n\n    def forward(self, x, adjacency_matrix):\n        \"\"\"\n        Args:\n            x: Historical data [batch, num_companies, time_steps, input_dim]\n            adjacency_matrix: Graph structure [num_companies, num_companies]\n        Returns:\n            predictions: [batch, num_companies, output_dim]\n        \"\"\"\n        batch_size = x.shape[0]\n\n        # Step 1: Extract temporal features for each stock independently\n        # Reshape to process all companies' time series\n        x_reshaped = x.view(x.shape[0], x.shape[1], -1)  # [batch, companies, time_steps * features]\n\n        # Compute powers of adjacency matrix: A^0 (self), A^1 (neighbors), A^2 (2-hop), ...\n        S_powers = [torch.eye(self.num_companies, device=adjacency_matrix.device)]\n        for k in range(self.K):\n            S_powers.append(torch.matmul(S_powers[-1], adjacency_matrix))\n\n        # Step 2: Aggregate information from k-hop neighbors\n        output = torch.zeros(x.shape[0], x.shape[1], self.output_dim, device=self.device)\n        for k in range(self.K + 1):\n            # Transform features at each hop level\n            transformed = self.graph_layers[k](x_reshaped)  # [batch, companies, hidden_dim]\n\n            # Aggregate from k-hop neighbors: S^k @ transformed\n            aggregated = torch.matmul(S_powers[k], transformed)  # [batch, companies, hidden_dim]\n            output += aggregated\n\n        return output",
   "metadata": {
    "id": "I0WbMW-lHLXW",
    "trusted": true,
    "execution": {
     "iopub.status.busy": "2025-10-29T17:53:43.630009Z",
     "iopub.execute_input": "2025-10-29T17:53:43.630228Z",
     "iopub.status.idle": "2025-10-29T17:53:43.647858Z",
     "shell.execute_reply.started": "2025-10-29T17:53:43.630207Z",
     "shell.execute_reply": "2025-10-29T17:53:43.647216Z"
    },
    "ExecuteTime": {
     "end_time": "2025-10-30T13:00:45.723169Z",
     "start_time": "2025-10-30T13:00:45.719613Z"
    }
   },
   "outputs": [],
   "execution_count": 16
  },
  {
   "cell_type": "code",
   "source": "torch.cuda.empty_cache()\n\ntorch.cuda.memory_allocated()\n\n#import gc\n#gc.collect()",
   "metadata": {
    "colab": {
     "base_uri": "https://localhost:8080/"
    },
    "id": "4Xzxly4ZFtin",
    "outputId": "cc2f23fb-21b6-43ad-c5c8-ae4d4a0d0e99",
    "trusted": true,
    "execution": {
     "iopub.status.busy": "2025-10-29T17:53:43.648698Z",
     "iopub.execute_input": "2025-10-29T17:53:43.649023Z",
     "iopub.status.idle": "2025-10-29T17:53:43.664586Z",
     "shell.execute_reply.started": "2025-10-29T17:53:43.649008Z",
     "shell.execute_reply": "2025-10-29T17:53:43.663741Z"
    },
    "ExecuteTime": {
     "end_time": "2025-10-30T13:00:45.772004Z",
     "start_time": "2025-10-30T13:00:45.767424Z"
    }
   },
   "outputs": [
    {
     "data": {
      "text/plain": [
       "75154944"
      ]
     },
     "execution_count": 17,
     "metadata": {},
     "output_type": "execute_result"
    }
   ],
   "execution_count": 17
  },
  {
   "cell_type": "code",
   "source": "# ============================================================================\n# ALTERNATIVE TRAINING: G-VAR Model (Commented out - uncomment to use)\n# ============================================================================\n# Simpler baseline model without graph structure\n#\n# model = GVarModel(\n#     input_dim=num_features * window_size,\n#     output_dim=prediction_horizon,\n#     num_companies=num_companies,\n#     device=device,\n#     K=1\n# ).to(device)\n#\n# criterion = nn.MSELoss(reduction='none')\n# optimizer = optim.Adam(model.parameters(), lr=0.001)\n#\n# for epoch in range(epochs):\n#     model.train()\n#     optimizer.zero_grad()\n#     \n#     # Use identity matrix instead of adjacency (no graph structure)\n#     predictions = model(X_train, torch.eye(num_companies, device=device))\n#     \n#     loss_per_sample = criterion(predictions, y_train)\n#     masked_loss = loss_per_sample * train_masks.unsqueeze(-1)\n#     num_valid = train_masks.sum() + 1e-8\n#     loss = masked_loss.sum() / num_valid\n#     \n#     loss.backward()\n#     optimizer.step()\n#     \n#     if (epoch + 1) % 50 == 0:\n#         print(f'Epoch [{epoch+1}/{epochs}], Loss: {loss.item():.6f}')\n\npass  # Placeholder to keep cell executable",
   "metadata": {
    "colab": {
     "base_uri": "https://localhost:8080/"
    },
    "id": "OuT9rVIA8a2q",
    "outputId": "f5e82139-35c1-413c-8120-18e47f62753b",
    "trusted": true,
    "execution": {
     "iopub.status.busy": "2025-10-29T17:53:43.665394Z",
     "iopub.execute_input": "2025-10-29T17:53:43.665672Z",
     "iopub.status.idle": "2025-10-29T17:53:43.677059Z",
     "shell.execute_reply.started": "2025-10-29T17:53:43.665648Z",
     "shell.execute_reply": "2025-10-29T17:53:43.676246Z"
    },
    "ExecuteTime": {
     "end_time": "2025-10-30T13:00:45.818203Z",
     "start_time": "2025-10-30T13:00:45.816443Z"
    }
   },
   "outputs": [],
   "execution_count": 18
  },
  {
   "cell_type": "markdown",
   "source": "# GNN",
   "metadata": {
    "id": "KZVrwD7S5NdX"
   }
  },
  {
   "cell_type": "code",
   "source": "# ============================================================================\n# MODEL DEFINITION: GCN (Graph Convolutional Network)\n# ============================================================================\n\nclass GCNModel(nn.Module):\n    \"\"\"\n    Graph Convolutional Network for stock prediction\n    Uses graph shift operator for spatial aggregation\n    \"\"\"\n    def __init__(self, layers_dim, num_companies, S, device, K=1, L=1):\n        \"\"\"\n        Args:\n            layers_dim: List of (input_dim, output_dim) tuples for each layer\n            num_companies: Number of stocks\n            S: Graph shift operator (normalized adjacency)\n            device: torch device\n            K: Number of graph hops\n            L: Number of GCN layers\n        \"\"\"\n        super(GCNModel, self).__init__()\n        self.device = device\n        self.K = K\n        self.L = L\n        self.num_companies = num_companies\n        self.layers_dim = layers_dim\n        \n        # Compute powers of graph shift operator: S^0, S^1, S^2, ...\n        self.S_powers = [S]\n        for k in range(self.K):\n            self.S_powers.append(self.S_powers[-1] @ S)\n        \n        # GCN layers\n        self.gcn_layer1 = nn.ModuleList([\n            nn.Linear(layers_dim[0][0], layers_dim[0][1]) for _ in range(K)\n        ])\n        self.activation1 = nn.ReLU()\n        \n        self.gcn_layer2 = nn.ModuleList([\n            nn.Linear(layers_dim[1][0], layers_dim[1][1]) for _ in range(K)\n        ])\n        self.activation2 = nn.ReLU()\n    \n    def forward(self, x):\n        \"\"\"\n        Args:\n            x: Historical data [batch, num_companies, time_steps, input_dim]\n        Returns:\n            predictions: [batch, num_companies, output_dim]\n        \"\"\"\n        batch_size = x.shape[0]\n        x_reshaped = x.view(batch_size, self.num_companies, -1)  # Flatten temporal dimension\n        \n        # First GCN layer with K-hop aggregation\n        x_i = x_reshaped\n        output = torch.zeros(batch_size, self.num_companies, self.layers_dim[0][1], device=self.device)\n        for k in range(self.K):\n            transformed = self.gcn_layer1[k](self.S_powers[k] @ x_i)\n            output += transformed\n        x_i = self.activation1(output)\n        \n        # Second GCN layer with K-hop aggregation\n        output = torch.zeros(batch_size, self.num_companies, self.layers_dim[1][1], device=self.device)\n        for k in range(self.K):\n            transformed = self.gcn_layer2[k](self.S_powers[k] @ x_i)\n            output += transformed\n        x_i = self.activation2(output)\n        \n        return x_i\n\n\nprint(\"GCNModel defined successfully!\")",
   "metadata": {
    "id": "85oRacMq5Ms-",
    "trusted": true,
    "execution": {
     "iopub.status.busy": "2025-10-29T17:53:43.677828Z",
     "iopub.execute_input": "2025-10-29T17:53:43.678036Z",
     "iopub.status.idle": "2025-10-29T17:53:43.695288Z",
     "shell.execute_reply.started": "2025-10-29T17:53:43.678022Z",
     "shell.execute_reply": "2025-10-29T17:53:43.694576Z"
    },
    "ExecuteTime": {
     "end_time": "2025-10-30T13:00:45.867471Z",
     "start_time": "2025-10-30T13:00:45.862755Z"
    }
   },
   "outputs": [
    {
     "name": "stdout",
     "output_type": "stream",
     "text": [
      "GCNModel defined successfully!\n"
     ]
    }
   ],
   "execution_count": 19
  },
  {
   "cell_type": "code",
   "source": "# ============================================================================\n# MODEL DEFINITION: GCN-GAT (Hybrid using Graph Attention)\n# ============================================================================\n\nclass GCNGATModel(nn.Module):\n    \"\"\"\n    Hybrid model using Graph Attention Networks (GAT) for stock prediction\n    Uses attention mechanism to weight neighbor importance\n    \"\"\"\n    def __init__(self, layers_dim, num_companies, adjacency_matrix, S, device, edge_index, edge_weight, K=1, L=1):\n        \"\"\"\n        Args:\n            layers_dim: List of (input_dim, output_dim) tuples for each layer\n            num_companies: Number of stocks\n            adjacency_matrix: Adjacency matrix for masking\n            S: Graph shift operator\n            device: torch device\n            edge_index: Edge connectivity [2, num_edges]\n            edge_weight: Edge weights [num_edges, 1]\n            K: Number of graph hops\n            L: Number of layers\n        \"\"\"\n        super(GCNGATModel, self).__init__()\n        self.device = device\n        self.K = K\n        self.L = L\n        self.num_companies = num_companies\n        self.layers_dim = layers_dim\n        \n        # Graph structure\n        self.S = S\n        self.adjacency_matrix = adjacency_matrix\n        self.mask = (self.adjacency_matrix == 0)\n        self.edge_index = edge_index\n        self.edge_weight = edge_weight\n        \n        # GAT layer: attention-based aggregation\n        # Input: num_features * window_size, Output: prediction_horizon\n        self.conv_0 = GATConv(\n            in_channels=layers_dim[0][0], \n            out_channels=layers_dim[0][1], \n            heads=MODEL_CONFIG['num_attention_heads'],  # Multi-head attention\n            concat=False,  # Average the heads\n            dropout=MODEL_CONFIG['dropout'], \n            add_self_loops=True, \n            edge_dim=1,  # Use edge weights\n            fill_value=0, \n            bias=True\n        )\n    \n    def forward(self, x):\n        \"\"\"\n        Args:\n            x: Historical data [batch, num_companies, time_steps, input_dim]\n        Returns:\n            predictions: [batch, num_companies, output_dim]\n        \"\"\"\n        batch_size = x.shape[0]\n        x_reshaped = x.view(batch_size, self.num_companies, -1)  # Flatten temporal dimension\n        \n        # Process each batch separately (GAT requires this)\n        outputs = []\n        for b in range(batch_size):\n            out = self.conv_0(x_reshaped[b], self.edge_index, self.edge_weight)\n            out = F.relu(out)\n            outputs.append(out)\n        \n        return torch.stack(outputs)\n\n\nprint(\"GCNGATModel defined successfully!\")",
   "metadata": {
    "ExecuteTime": {
     "end_time": "2025-10-30T13:00:45.917638Z",
     "start_time": "2025-10-30T13:00:45.913177Z"
    }
   },
   "outputs": [
    {
     "name": "stdout",
     "output_type": "stream",
     "text": [
      "GCNGATModel defined successfully!\n"
     ]
    }
   ],
   "execution_count": 20
  },
  {
   "cell_type": "code",
   "source": "# ============================================================================\n# TRAINING: GCN-GAT Model with Validation and Testing\n# ============================================================================\n\n# Only run if GAT model is selected\nif not MODEL_CONFIG['use_gat']:\n    print(\"GAT model not selected in configuration. Skipping...\")\nelse:\n    # Clear GPU memory\n    torch.cuda.empty_cache()\n    \n    print(f\"{'='*60}\")\n    print(f\"TRAINING GCN-GAT MODEL\")\n    print(f\"{'='*60}\")\n    \n    # Verify all 5 features are being used\n    print(f\"\\nFeature verification:\")\n    print(f\"  Input shape: {X_train.shape}\")\n    print(f\"  Features per timestep: {X_train.shape[3]} (should be {num_features})\")\n    print(f\"  Total input dimension: window_size({window_size}) × features({num_features}) = {window_size * num_features}\")\n    assert X_train.shape[3] == num_features, f\"Expected {num_features} features but got {X_train.shape[3]}\"\n    print(f\"  ✓ All {num_features} features are being used!\")\n    \n    # Initialize model\n    print(f\"\\nInitializing GCN-GAT model...\")\n    model = GCNGATModel(\n        layers_dim=[(num_features * window_size, prediction_horizon)],\n        num_companies=num_companies,\n        adjacency_matrix=adjacency_matrix,\n        S=graph_shift_operator,\n        device=device,\n        edge_index=edge_index,\n        edge_weight=edge_weight,\n        K=1,\n        L=1\n    ).to(device)\n    \n    # Training configuration\n    criterion = nn.MSELoss(reduction='none')  # Masked loss\n    optimizer = optim.Adam(\n        model.parameters(), \n        lr=MODEL_CONFIG['learning_rate'],\n        weight_decay=MODEL_CONFIG['weight_decay']\n    )\n    \n    print(f\"\\nModel configuration:\")\n    print(f\"  Total parameters: {sum(p.numel() for p in model.parameters()):,}\")\n    print(f\"  Learning rate: {MODEL_CONFIG['learning_rate']}\")\n    print(f\"  Weight decay: {MODEL_CONFIG['weight_decay']}\")\n    print(f\"  Dropout: {MODEL_CONFIG['dropout']}\")\n    print(f\"  Attention heads: {MODEL_CONFIG['num_attention_heads']}\")\n    \n    # Training tracking\n    best_val_loss = float('inf')\n    patience_counter = 0\n    train_losses = []\n    val_losses = []\n    \n    print(f\"\\n{'='*60}\")\n    print(f\"Starting training for {epochs} epochs...\")\n    print(f\"{'='*60}\\n\")\n    \n    # Training loop\n    for epoch in range(epochs):\n        # ===== TRAINING =====\n        model.train()\n        optimizer.zero_grad()\n        \n        # Forward pass\n        predictions = model(X_train)  # [batch, companies, prediction_horizon]\n        \n        # Calculate masked loss\n        train_loss = calculate_loss(predictions, y_train, masks_train, criterion)\n        \n        # Backward pass\n        train_loss.backward()\n        optimizer.step()\n        \n        train_losses.append(train_loss.item())\n        \n        # ===== VALIDATION =====\n        model.eval()\n        with torch.no_grad():\n            val_predictions = model(X_val)\n            val_loss = calculate_loss(val_predictions, y_val, masks_val, criterion)\n            val_losses.append(val_loss.item())\n        \n        # Print progress\n        if (epoch + 1) % 10 == 0 or epoch == 0:\n            print(f'Epoch [{epoch+1:3d}/{epochs}] | Train Loss: {train_loss.item():.6f} | Val Loss: {val_loss.item():.6f}')\n        \n        # Early stopping check\n        if val_loss < best_val_loss:\n            best_val_loss = val_loss.item()\n            patience_counter = 0\n            # Save best model\n            best_model_state = model.state_dict().copy()\n        else:\n            patience_counter += 1\n        \n        if patience_counter >= early_stopping_patience:\n            print(f\"\\nEarly stopping triggered after {epoch+1} epochs (no improvement for {early_stopping_patience} epochs)\")\n            break\n    \n    # Load best model for final evaluation\n    model.load_state_dict(best_model_state)\n    \n    # ===== FINAL EVALUATION =====\n    print(f\"\\n{'='*60}\")\n    print(f\"FINAL EVALUATION (Best Model)\")\n    print(f\"{'='*60}\")\n    \n    model.eval()\n    with torch.no_grad():\n        # Train set\n        train_predictions = model(X_train)\n        final_train_loss = calculate_loss(train_predictions, y_train, masks_train, criterion)\n        \n        # Validation set\n        val_predictions = model(X_val)\n        final_val_loss = calculate_loss(val_predictions, y_val, masks_val, criterion)\n        \n        # Test set\n        test_predictions = model(X_test)\n        final_test_loss = calculate_loss(test_predictions, y_test, masks_test, criterion)\n    \n    print(f\"\\nFinal MSE Loss:\")\n    print(f\"  Train: {final_train_loss.item():.6f}\")\n    print(f\"  Val:   {final_val_loss.item():.6f}\")\n    print(f\"  Test:  {final_test_loss.item():.6f}\")\n    \n    # Calculate RMSE for interpretability\n    print(f\"\\nFinal RMSE:\")\n    print(f\"  Train: {torch.sqrt(final_train_loss).item():.6f}\")\n    print(f\"  Val:   {torch.sqrt(final_val_loss).item():.6f}\")\n    print(f\"  Test:  {torch.sqrt(final_test_loss).item():.6f}\")\n    \n    print(f\"\\n{'='*60}\")\n    print(f\"Training completed!\")\n    print(f\"{'='*60}\")",
   "metadata": {
    "trusted": true,
    "execution": {
     "iopub.status.busy": "2025-10-29T17:58:40.470365Z",
     "iopub.execute_input": "2025-10-29T17:58:40.470885Z",
     "iopub.status.idle": "2025-10-29T17:58:40.482898Z",
     "shell.execute_reply.started": "2025-10-29T17:58:40.470862Z",
     "shell.execute_reply": "2025-10-29T17:58:40.482205Z"
    },
    "ExecuteTime": {
     "end_time": "2025-10-30T13:01:04.981036Z",
     "start_time": "2025-10-30T13:00:45.963781Z"
    }
   },
   "outputs": [
    {
     "name": "stdout",
     "output_type": "stream",
     "text": [
      "============================================================\n",
      "TRAINING GCN-GAT MODEL\n",
      "============================================================\n",
      "\n",
      "Feature verification:\n",
      "  Input shape: torch.Size([980, 150, 20, 5])\n",
      "  Features per timestep: 5 (should be 5)\n",
      "  Total input dimension: window_size(20) × features(5) = 100\n",
      "  ✓ All 5 features are being used!\n",
      "\n",
      "Initializing GCN-GAT model...\n",
      "\n",
      "Model configuration:\n",
      "  Total parameters: 209\n",
      "  Learning rate: 0.001\n",
      "  Weight decay: 0.0\n",
      "  Dropout: 0.5\n",
      "  Attention heads: 2\n",
      "\n",
      "============================================================\n",
      "Starting training for 20 epochs...\n",
      "============================================================\n",
      "\n",
      "Epoch [  1/20] | Train Loss: 1.236391 | Val Loss: 0.387964\n",
      "Epoch [ 10/20] | Train Loss: 0.373407 | Val Loss: 0.004018\n",
      "Epoch [ 20/20] | Train Loss: 0.205355 | Val Loss: 0.209496\n",
      "\n",
      "============================================================\n",
      "FINAL EVALUATION (Best Model)\n",
      "============================================================\n",
      "\n",
      "Final MSE Loss:\n",
      "  Train: 0.158426\n",
      "  Val:   0.209496\n",
      "  Test:  0.231408\n",
      "\n",
      "Final RMSE:\n",
      "  Train: 0.398028\n",
      "  Val:   0.457708\n",
      "  Test:  0.481049\n",
      "\n",
      "============================================================\n",
      "Training completed!\n",
      "============================================================\n"
     ]
    }
   ],
   "execution_count": 21
  },
  {
   "cell_type": "code",
   "source": "# ============================================================================\n# VISUALIZE TRAINING PROGRESS\n# ============================================================================\n\nif MODEL_CONFIG['use_gat'] and 'train_losses' in locals():\n    import matplotlib.pyplot as plt\n    \n    plt.figure(figsize=(12, 5))\n    \n    # Plot losses\n    plt.subplot(1, 2, 1)\n    plt.plot(train_losses, label='Train Loss', alpha=0.7)\n    plt.plot(val_losses, label='Val Loss', alpha=0.7)\n    plt.xlabel('Epoch')\n    plt.ylabel('MSE Loss')\n    plt.title('Training and Validation Loss')\n    plt.legend()\n    plt.grid(True, alpha=0.3)\n    \n    # Plot RMSE (more interpretable)\n    plt.subplot(1, 2, 2)\n    plt.plot([torch.sqrt(torch.tensor(l)).item() for l in train_losses], label='Train RMSE', alpha=0.7)\n    plt.plot([torch.sqrt(torch.tensor(l)).item() for l in val_losses], label='Val RMSE', alpha=0.7)\n    plt.xlabel('Epoch')\n    plt.ylabel('RMSE')\n    plt.title('Training and Validation RMSE')\n    plt.legend()\n    plt.grid(True, alpha=0.3)\n    \n    plt.tight_layout()\n    plt.show()\n    \n    print(f\"\\nTraining statistics:\")\n    print(f\"  Best epoch: {val_losses.index(min(val_losses)) + 1}\")\n    print(f\"  Best val loss: {min(val_losses):.6f}\")\n    print(f\"  Final train loss: {train_losses[-1]:.6f}\")\n    print(f\"  Final val loss: {val_losses[-1]:.6f}\")",
   "metadata": {
    "ExecuteTime": {
     "end_time": "2025-10-30T13:01:05.313959Z",
     "start_time": "2025-10-30T13:01:05.167762Z"
    }
   },
   "outputs": [
    {
     "data": {
      "text/plain": [
       "<Figure size 1200x500 with 2 Axes>"
      ],
      "image/png": "[encoded data removed]"
     },
     "metadata": {},
     "output_type": "display_data",
     "jetTransient": {
      "display_id": null
     }
    },
    {
     "name": "stdout",
     "output_type": "stream",
     "text": [
      "\n",
      "Training statistics:\n",
      "  Best epoch: 10\n",
      "  Best val loss: 0.004018\n",
      "  Final train loss: 0.205355\n",
      "  Final val loss: 0.209496\n"
     ]
    }
   ],
   "execution_count": 22
  }
 ]
}
